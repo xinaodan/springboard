{
 "cells": [
  {
   "cell_type": "code",
   "execution_count": 4,
   "metadata": {},
   "outputs": [],
   "source": [
    "import requests"
   ]
  },
  {
   "cell_type": "code",
   "execution_count": 39,
   "metadata": {},
   "outputs": [],
   "source": [
    "URL_API = \"https://api.bugwood.org/rest/api/image/.json\"\n",
    "URL_PREFIX_IMG = \"https://bugwoodcloud.org/images\"\n",
    "IMG_SHAPE = \"384x256\"\n",
    "\n",
    "categories = {\n",
    "    \"deciduous\": 57,\n",
    "    \"coniferous\": 58\n",
    "}\n",
    "filters = {\n",
    "    \"Foliage\": 15\n",
    "}\n",
    "\n",
    "headers = {\n",
    "    \"user-agent\": \"Mozilla/5.0 (Macintosh; Intel Mac OS X 10_15_2) AppleWebKit/537.36 (KHTML, like Gecko) Chrome/79.0.3945.117 Safari/537.36\"\n",
    "}\n",
    "deciduous_params = {\n",
    "    \"include\": \"descriptor\",\n",
    "    \"page\": 1,\n",
    "    \"cat\": 57,\n",
    "    \"desc\": 15\n",
    "}\n",
    "conifer_params = {\n",
    "    \"include\": \"descriptor\",\n",
    "    \"page\": 1,\n",
    "    \"cat\": 58,\n",
    "    \"desc\": 15\n",
    "}"
   ]
  },
  {
   "cell_type": "code",
   "execution_count": 9,
   "metadata": {},
   "outputs": [],
   "source": [
    "r = requests.get(URL, headers=headers, params=deciduous_params)"
   ]
  },
  {
   "cell_type": "code",
   "execution_count": 22,
   "metadata": {},
   "outputs": [],
   "source": [
    "r = requests.get(URL, headers=headers, params=conifer_params)"
   ]
  },
  {
   "cell_type": "code",
   "execution_count": 19,
   "metadata": {},
   "outputs": [],
   "source": [
    "dec_res = r.json()"
   ]
  },
  {
   "cell_type": "code",
   "execution_count": 23,
   "metadata": {},
   "outputs": [],
   "source": [
    "con_res = r.json()"
   ]
  },
  {
   "cell_type": "code",
   "execution_count": 53,
   "metadata": {},
   "outputs": [],
   "source": [
    "n_samples = min(len(con_res['rows']), len(dec_res['rows']))"
   ]
  },
  {
   "cell_type": "code",
   "execution_count": 46,
   "metadata": {},
   "outputs": [],
   "source": [
    "def form_img_links(img_objs, keyword='imgnum'):\n",
    "    img_links = []\n",
    "    for img_obj in img_objs:\n",
    "        img_num = img_obj[keyword]\n",
    "        img_link = f'{URL_PREFIX_IMG}/{IMG_SHAPE}/{img_num}.jpg'\n",
    "        img_links.append(img_link)\n",
    "    return img_links"
   ]
  },
  {
   "cell_type": "code",
   "execution_count": 54,
   "metadata": {},
   "outputs": [],
   "source": [
    "dec_img_links = form_img_links(dec_res['rows'][:n_samples])"
   ]
  },
  {
   "cell_type": "code",
   "execution_count": 55,
   "metadata": {},
   "outputs": [],
   "source": [
    "con_img_links = form_img_links(con_res['rows'][:n_samples])"
   ]
  },
  {
   "cell_type": "code",
   "execution_count": null,
   "metadata": {},
   "outputs": [],
   "source": [
    "def download_images(img_links, folder_name, name_prefix):\n",
    "    \"\"\"Download images from the links and save them to a folder with name prefix.\"\"\"\n",
    "    for link in img_links:\n",
    "        try:\n",
    "            img = requests.get(link)\n",
    "            # Image name = name_prefix + _uuid4 + .jpg\n",
    "            path = f'./{folder_name}/{name_prefix}_{uuid.uuid4().hex}.jpg'\n",
    "            with open(path, 'wb') as handle:\n",
    "                handle.write(img.content)\n",
    "        except:\n",
    "            print(f'Unable to download image from the link: {link}')"
   ]
  },
  {
   "cell_type": "code",
   "execution_count": 80,
   "metadata": {},
   "outputs": [],
   "source": [
    "def download_imgs(img_links, dir_path, headers=None):\n",
    "    for link in img_links:\n",
    "        try:\n",
    "            img_name = link.split('/')[-1]\n",
    "            img = requests.get(link, headers=headers)\n",
    "            file_path = f'{dir_path}/{img_name}'\n",
    "            with open(file_path, 'wb') as handle:\n",
    "                handle.write(img.content)\n",
    "        except:\n",
    "            print(f'Unable to download image from the link: {link}')"
   ]
  },
  {
   "cell_type": "code",
   "execution_count": 82,
   "metadata": {},
   "outputs": [],
   "source": [
    "dec_img_dir = './data/raw/deciduous'\n",
    "con_img_dir = './data/raw/coniferous'\n",
    "\n",
    "download_imgs(dec_img_links, dec_img_dir, headers)\n",
    "download_imgs(con_img_links, con_img_dir, headers)"
   ]
  },
  {
   "cell_type": "code",
   "execution_count": 76,
   "metadata": {},
   "outputs": [
    {
     "data": {
      "text/plain": [
       "<Response [200]>"
      ]
     },
     "execution_count": 76,
     "metadata": {},
     "output_type": "execute_result"
    }
   ],
   "source": [
    "requests.get(con_img_links[0], headers=headers)"
   ]
  },
  {
   "cell_type": "code",
   "execution_count": null,
   "metadata": {},
   "outputs": [],
   "source": []
  }
 ],
 "metadata": {
  "kernelspec": {
   "display_name": "Python (tree-classifier)",
   "language": "python",
   "name": "tree-classifier"
  },
  "language_info": {
   "codemirror_mode": {
    "name": "ipython",
    "version": 3
   },
   "file_extension": ".py",
   "mimetype": "text/x-python",
   "name": "python",
   "nbconvert_exporter": "python",
   "pygments_lexer": "ipython3",
   "version": "3.6.7"
  }
 },
 "nbformat": 4,
 "nbformat_minor": 4
}
