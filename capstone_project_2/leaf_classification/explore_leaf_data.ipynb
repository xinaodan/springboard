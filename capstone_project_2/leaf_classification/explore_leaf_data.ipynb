{
 "cells": [
  {
   "cell_type": "code",
   "execution_count": 1,
   "metadata": {},
   "outputs": [],
   "source": [
    "import pandas as pd\n",
    "\n",
    "\n",
    "train = pd.read_csv('train.csv')\n",
    "test = pd.read_csv('test.csv')"
   ]
  },
  {
   "cell_type": "markdown",
   "metadata": {},
   "source": [
    "# Data Processing"
   ]
  },
  {
   "cell_type": "code",
   "execution_count": 2,
   "metadata": {},
   "outputs": [],
   "source": [
    "from sklearn.preprocessing import LabelEncoder\n",
    "\n",
    "\n",
    "def encode(train, test):\n",
    "    le = LabelEncoder()\n",
    "    le.fit(train.species)\n",
    "    labels = le.transform(train.species)\n",
    "    classes = list(le.classes_)\n",
    "    test_ids = test.id\n",
    "    \n",
    "    train = train.drop(['id', 'species'], axis=1)\n",
    "    test = test.drop('id', axis=1)\n",
    "    \n",
    "    return train, labels, test, test_ids, classes\n",
    "\n",
    "\n",
    "train, labels, test, test_ids, classes = encode(train, test)"
   ]
  },
  {
   "cell_type": "markdown",
   "metadata": {},
   "source": [
    "# Data Training"
   ]
  },
  {
   "cell_type": "code",
   "execution_count": null,
   "metadata": {},
   "outputs": [],
   "source": [
    "# from sklearn.tree import DecisionTreeClassifier\n",
    "\n",
    "\n",
    "# clf = DecisionTreeClassifier(random_state=0)\n",
    "# clf.fit(train, labels)"
   ]
  },
  {
   "cell_type": "markdown",
   "metadata": {},
   "source": [
    "# Family Identification"
   ]
  },
  {
   "cell_type": "markdown",
   "metadata": {},
   "source": [
    "1. Get wiki page title\n",
    "2. Get wiki page data\n",
    "3. Extract family names"
   ]
  },
  {
   "cell_type": "code",
   "execution_count": 23,
   "metadata": {},
   "outputs": [],
   "source": [
    "def get_title(species):\n",
    "    \"\"\"Search and get wiki page title\"\"\"\n",
    "    titles = []\n",
    "    \n",
    "    try:\n",
    "        import wikipedia\n",
    "    except ModuleNotFoundError as e:\n",
    "        print('Unable to import wikipedia package')\n",
    "        return None\n",
    "        \n",
    "    for keyword in species:\n",
    "        try:\n",
    "            title = wikipedia.page(keyword).title\n",
    "            titles.append(title)\n",
    "        except Exception as e:\n",
    "            print(e)\n",
    "        \n",
    "    return titles"
   ]
  },
  {
   "cell_type": "code",
   "execution_count": 33,
   "metadata": {},
   "outputs": [],
   "source": [
    "def get_family_from_image(image_metadata):\n",
    "    import re\n",
    "    pattern = r'<b>Family</b>: <i>([a-zA-Z]+)</i>'\n",
    "    family = re.search(pattern,image_metadata).group(1)\n",
    "    return family"
   ]
  },
  {
   "cell_type": "code",
   "execution_count": 62,
   "metadata": {},
   "outputs": [],
   "source": [
    "def get_families(titles):\n",
    "    families = []\n",
    "    \n",
    "    try:\n",
    "        import wptools\n",
    "    except ModuleNotFoundError as e:\n",
    "        print('Unable to import wptools package')\n",
    "        return None\n",
    "    \n",
    "    for title in titles:\n",
    "        try:\n",
    "            page = wptools.page(title).get_parse()\n",
    "            infobox = page.data['infobox']\n",
    "            if 'familia' in infobox.keys():\n",
    "                family = infobox['familia'] \n",
    "            else:\n",
    "                image_metadata = page.data['image'][0]['metadata']['ImageDescription']['value']\n",
    "                family = get_family_from_image(image_metadata)\n",
    "            # Remove special character from family\n",
    "            family = ''.join(e for e in family if e.isalnum())\n",
    "            if family not in families:\n",
    "                families.append(family)\n",
    "        except Exception as e:\n",
    "            print(e)\n",
    "        \n",
    "    return families"
   ]
  },
  {
   "cell_type": "code",
   "execution_count": 48,
   "metadata": {},
   "outputs": [
    {
     "name": "stdout",
     "output_type": "stream",
     "text": [
      "Failed to get title for Page id \"Acer_Platanoids\" does not match any pages. Try another id!\n",
      "Failed to get title for Page id \"Prunus_X_Shmittii\" does not match any pages. Try another id!\n",
      "Failed to get title for Page id \"Quercus_Dolicholepis\" does not match any pages. Try another id!\n",
      "Failed to get title for Page id \"Rhododendron_x_Russellianum\" does not match any pages. Try another id!\n",
      "Failed to get title for Page id \"Salix_Intergra\" does not match any pages. Try another id!\n"
     ]
    }
   ],
   "source": [
    "titles = get_title(classes)"
   ]
  },
  {
   "cell_type": "code",
   "execution_count": null,
   "metadata": {
    "scrolled": false
   },
   "outputs": [],
   "source": [
    "families = get_families(titles)"
   ]
  },
  {
   "cell_type": "code",
   "execution_count": null,
   "metadata": {},
   "outputs": [],
   "source": [
    "final_families = ['Sapindaceae',\n",
    "                  'Aceraceae',\n",
    "                  'Verbenaceae',\n",
    "                  'Fabaceae',\n",
    "                  'Fagaceae',\n",
    "                  'Magnoliaceae',\n",
    "                  'Rosaceae',\n",
    "                  'Ericaceae',\n",
    "                  'Gentianaceae',\n",
    "                  'Salicaceae']"
   ]
  },
  {
   "cell_type": "code",
   "execution_count": null,
   "metadata": {},
   "outputs": [],
   "source": []
  }
 ],
 "metadata": {
  "kernelspec": {
   "display_name": "Python 3",
   "language": "python",
   "name": "python3"
  },
  "language_info": {
   "codemirror_mode": {
    "name": "ipython",
    "version": 3
   },
   "file_extension": ".py",
   "mimetype": "text/x-python",
   "name": "python",
   "nbconvert_exporter": "python",
   "pygments_lexer": "ipython3",
   "version": "3.7.3"
  }
 },
 "nbformat": 4,
 "nbformat_minor": 2
}
