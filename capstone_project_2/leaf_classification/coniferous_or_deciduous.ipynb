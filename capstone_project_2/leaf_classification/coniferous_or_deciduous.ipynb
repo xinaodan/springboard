{
 "cells": [
  {
   "cell_type": "code",
   "execution_count": null,
   "metadata": {},
   "outputs": [],
   "source": [
    "import os\n",
    "import requests\n",
    "from urllib3.exceptions import NewConnectionError\n",
    "import uuid\n",
    "from bs4 import BeautifulSoup"
   ]
  },
  {
   "cell_type": "code",
   "execution_count": null,
   "metadata": {},
   "outputs": [],
   "source": [
    "classes = ['Coniferous', 'Deciduous']\n",
    "page_length = 10"
   ]
  },
  {
   "cell_type": "code",
   "execution_count": null,
   "metadata": {},
   "outputs": [],
   "source": [
    "def get_image_links(query, nth_page):\n",
    "    \"\"\"Retrieve the image links from the response of the ecosia request.\"\"\"\n",
    "    image_links = []\n",
    "    \n",
    "    # Add headers to prevent IP block\n",
    "    headers = {\n",
    "        'user-agent': 'Mozilla/5.0 (Macintosh; Intel Mac OS X 10_15_1) AppleWebKit/537.36 (KHTML, like Gecko) Chrome/78.0.3904.108 Safari/537.36',\n",
    "        'content-type': 'text/html; charset=utf-8',\n",
    "    }\n",
    "    params = {\n",
    "        'q': query,\n",
    "        'p': nth_page\n",
    "    }\n",
    "    response = requests.get('https://www.ecosia.org/images', headers=headers, params=params)\n",
    "    \n",
    "    soup = BeautifulSoup(response.text, 'html.parser')\n",
    "    image_results = soup.select('a.image-result')\n",
    "    for img in image_results:\n",
    "        image_links.append(img.get('href'))\n",
    "    return image_links"
   ]
  },
  {
   "cell_type": "code",
   "execution_count": null,
   "metadata": {},
   "outputs": [],
   "source": [
    "def download_images(img_links, folder_name, name_prefix):\n",
    "    \"\"\"Download images from the links and save them to a folder with name prefix.\"\"\"\n",
    "    for link in img_links:\n",
    "        try:\n",
    "            img = requests.get(link)\n",
    "            # Image name = name_prefix + _uuid4 + .jpg\n",
    "            path = f'./{folder_name}/{name_prefix}_{uuid.uuid4().hex}.jpg'\n",
    "            with open(path, 'wb') as handle:\n",
    "                handle.write(img.content)\n",
    "        except:\n",
    "            print(f'Unable to download image from the link: {link}')"
   ]
  },
  {
   "cell_type": "code",
   "execution_count": null,
   "metadata": {},
   "outputs": [],
   "source": [
    "for class_ in classes:\n",
    "    try:\n",
    "        # Folder name = class name + _images\n",
    "        folder_name = f'{class_}_images'\n",
    "        os.mkdir(folder_name)\n",
    "    except FileExistsError:\n",
    "        pass\n",
    "    for i in range(1, page_length + 1):\n",
    "        img_links = get_image_links(query=class_, nth_page=i)\n",
    "        download_images(img_links, folder_name, name_prefix=class_)"
   ]
  }
 ],
 "metadata": {
  "kernelspec": {
   "display_name": "Python 3",
   "language": "python",
   "name": "python3"
  },
  "language_info": {
   "codemirror_mode": {
    "name": "ipython",
    "version": 3
   },
   "file_extension": ".py",
   "mimetype": "text/x-python",
   "name": "python",
   "nbconvert_exporter": "python",
   "pygments_lexer": "ipython3",
   "version": "3.7.4"
  }
 },
 "nbformat": 4,
 "nbformat_minor": 4
}
