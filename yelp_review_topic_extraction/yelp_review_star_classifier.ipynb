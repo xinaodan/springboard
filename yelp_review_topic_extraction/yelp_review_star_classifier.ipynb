{
 "cells": [
  {
   "cell_type": "markdown",
   "metadata": {},
   "source": [
    "# Yelp Review Star Classifier"
   ]
  },
  {
   "cell_type": "markdown",
   "metadata": {},
   "source": [
    "Build a classifier to predict the star of the review from the review context."
   ]
  },
  {
   "cell_type": "code",
   "execution_count": 2,
   "metadata": {},
   "outputs": [],
   "source": [
    "from time import time\n",
    "from pprint import pprint\n",
    "\n",
    "import pandas as pd\n",
    "from sklearn.model_selection import cross_val_score\n",
    "from sklearn.model_selection import GridSearchCV\n",
    "from sklearn.pipeline import Pipeline\n",
    "from sklearn.feature_extraction.text import CountVectorizer\n",
    "from sklearn.feature_extraction.text import TfidfTransformer\n",
    "from sklearn.naive_bayes import MultinomialNB\n",
    "from sklearn.linear_model import SGDClassifier"
   ]
  },
  {
   "cell_type": "code",
   "execution_count": 3,
   "metadata": {},
   "outputs": [
    {
     "name": "stdout",
     "output_type": "stream",
     "text": [
      "Loading Toronto restaurant reviews:\n"
     ]
    }
   ],
   "source": [
    "# Read toronto restaurant review data\n",
    "print('Loading Toronto restaurant reviews:')\n",
    "\n",
    "# Read data from gcp\n",
    "# df = pd.read_csv('gs://yelp_review_toronto_restaurant/toronto_restaurant_review.csv', index_col=0)\n",
    "\n",
    "# Read data from local file\n",
    "df = pd.read_csv('toronto_restaurant_review.csv')"
   ]
  },
  {
   "cell_type": "code",
   "execution_count": 39,
   "metadata": {},
   "outputs": [],
   "source": [
    "df.head().to_clipboard()"
   ]
  },
  {
   "cell_type": "code",
   "execution_count": 4,
   "metadata": {},
   "outputs": [
    {
     "name": "stdout",
     "output_type": "stream",
     "text": [
      "Total 376702 reviews\n",
      "Review preview:\n"
     ]
    },
    {
     "data": {
      "text/html": [
       "<div>\n",
       "<style scoped>\n",
       "    .dataframe tbody tr th:only-of-type {\n",
       "        vertical-align: middle;\n",
       "    }\n",
       "\n",
       "    .dataframe tbody tr th {\n",
       "        vertical-align: top;\n",
       "    }\n",
       "\n",
       "    .dataframe thead th {\n",
       "        text-align: right;\n",
       "    }\n",
       "</style>\n",
       "<table border=\"1\" class=\"dataframe\">\n",
       "  <thead>\n",
       "    <tr style=\"text-align: right;\">\n",
       "      <th></th>\n",
       "      <th>Unnamed: 0</th>\n",
       "      <th>business_id</th>\n",
       "      <th>cool</th>\n",
       "      <th>date</th>\n",
       "      <th>funny</th>\n",
       "      <th>review_id</th>\n",
       "      <th>stars_x</th>\n",
       "      <th>text</th>\n",
       "      <th>useful</th>\n",
       "      <th>user_id</th>\n",
       "      <th>...</th>\n",
       "      <th>city</th>\n",
       "      <th>hours</th>\n",
       "      <th>is_open</th>\n",
       "      <th>latitude</th>\n",
       "      <th>longitude</th>\n",
       "      <th>name</th>\n",
       "      <th>postal_code</th>\n",
       "      <th>review_count</th>\n",
       "      <th>stars_y</th>\n",
       "      <th>state</th>\n",
       "    </tr>\n",
       "  </thead>\n",
       "  <tbody>\n",
       "    <tr>\n",
       "      <th>0</th>\n",
       "      <td>0</td>\n",
       "      <td>AakkkTuGZA2KBodKi2_u8A</td>\n",
       "      <td>0</td>\n",
       "      <td>2012-07-16 00:37:14</td>\n",
       "      <td>1</td>\n",
       "      <td>JVcjMhlavKKn3UIt9p9OXA</td>\n",
       "      <td>1</td>\n",
       "      <td>I cannot believe how things have changed in 3 ...</td>\n",
       "      <td>1</td>\n",
       "      <td>TpyOT5E16YASd7EWjLQlrw</td>\n",
       "      <td>...</td>\n",
       "      <td>Toronto</td>\n",
       "      <td>{'Monday': '11:0-22:0', 'Tuesday': '11:0-22:0'...</td>\n",
       "      <td>1</td>\n",
       "      <td>43.649674</td>\n",
       "      <td>-79.435116</td>\n",
       "      <td>Pho Phuong</td>\n",
       "      <td>M6K 1T9</td>\n",
       "      <td>55</td>\n",
       "      <td>3.5</td>\n",
       "      <td>ON</td>\n",
       "    </tr>\n",
       "    <tr>\n",
       "      <th>1</th>\n",
       "      <td>1</td>\n",
       "      <td>AakkkTuGZA2KBodKi2_u8A</td>\n",
       "      <td>0</td>\n",
       "      <td>2014-02-24 01:45:02</td>\n",
       "      <td>0</td>\n",
       "      <td>vKhtzhPUz9RJbllyvHm3qA</td>\n",
       "      <td>3</td>\n",
       "      <td>Pretty good, food,, about the same as other vi...</td>\n",
       "      <td>0</td>\n",
       "      <td>G-9ujgKmc1J2k7HSqXszsw</td>\n",
       "      <td>...</td>\n",
       "      <td>Toronto</td>\n",
       "      <td>{'Monday': '11:0-22:0', 'Tuesday': '11:0-22:0'...</td>\n",
       "      <td>1</td>\n",
       "      <td>43.649674</td>\n",
       "      <td>-79.435116</td>\n",
       "      <td>Pho Phuong</td>\n",
       "      <td>M6K 1T9</td>\n",
       "      <td>55</td>\n",
       "      <td>3.5</td>\n",
       "      <td>ON</td>\n",
       "    </tr>\n",
       "    <tr>\n",
       "      <th>2</th>\n",
       "      <td>2</td>\n",
       "      <td>AakkkTuGZA2KBodKi2_u8A</td>\n",
       "      <td>0</td>\n",
       "      <td>2016-02-12 00:25:23</td>\n",
       "      <td>0</td>\n",
       "      <td>Je6AF9sTKwXwOVw2YHR1dg</td>\n",
       "      <td>5</td>\n",
       "      <td>I've been going to this place since it opened ...</td>\n",
       "      <td>0</td>\n",
       "      <td>NA4sslQXta6U263fqzwKiw</td>\n",
       "      <td>...</td>\n",
       "      <td>Toronto</td>\n",
       "      <td>{'Monday': '11:0-22:0', 'Tuesday': '11:0-22:0'...</td>\n",
       "      <td>1</td>\n",
       "      <td>43.649674</td>\n",
       "      <td>-79.435116</td>\n",
       "      <td>Pho Phuong</td>\n",
       "      <td>M6K 1T9</td>\n",
       "      <td>55</td>\n",
       "      <td>3.5</td>\n",
       "      <td>ON</td>\n",
       "    </tr>\n",
       "    <tr>\n",
       "      <th>3</th>\n",
       "      <td>3</td>\n",
       "      <td>AakkkTuGZA2KBodKi2_u8A</td>\n",
       "      <td>0</td>\n",
       "      <td>2013-05-07 06:03:17</td>\n",
       "      <td>0</td>\n",
       "      <td>b_xVF8U5Vqljz58OUEjqgA</td>\n",
       "      <td>4</td>\n",
       "      <td>One of the best Vietnamese places I`ve tried i...</td>\n",
       "      <td>1</td>\n",
       "      <td>1fNQRju9gmoCEvbPQBSo7w</td>\n",
       "      <td>...</td>\n",
       "      <td>Toronto</td>\n",
       "      <td>{'Monday': '11:0-22:0', 'Tuesday': '11:0-22:0'...</td>\n",
       "      <td>1</td>\n",
       "      <td>43.649674</td>\n",
       "      <td>-79.435116</td>\n",
       "      <td>Pho Phuong</td>\n",
       "      <td>M6K 1T9</td>\n",
       "      <td>55</td>\n",
       "      <td>3.5</td>\n",
       "      <td>ON</td>\n",
       "    </tr>\n",
       "    <tr>\n",
       "      <th>4</th>\n",
       "      <td>4</td>\n",
       "      <td>AakkkTuGZA2KBodKi2_u8A</td>\n",
       "      <td>0</td>\n",
       "      <td>2011-11-30 16:46:24</td>\n",
       "      <td>0</td>\n",
       "      <td>vFPpG1xDBSWcvy_165fxKg</td>\n",
       "      <td>3</td>\n",
       "      <td>This place is just ok. Nice atmosphere, big op...</td>\n",
       "      <td>0</td>\n",
       "      <td>fYJGKhZK2FZckYWDMdCooA</td>\n",
       "      <td>...</td>\n",
       "      <td>Toronto</td>\n",
       "      <td>{'Monday': '11:0-22:0', 'Tuesday': '11:0-22:0'...</td>\n",
       "      <td>1</td>\n",
       "      <td>43.649674</td>\n",
       "      <td>-79.435116</td>\n",
       "      <td>Pho Phuong</td>\n",
       "      <td>M6K 1T9</td>\n",
       "      <td>55</td>\n",
       "      <td>3.5</td>\n",
       "      <td>ON</td>\n",
       "    </tr>\n",
       "  </tbody>\n",
       "</table>\n",
       "<p>5 rows × 23 columns</p>\n",
       "</div>"
      ],
      "text/plain": [
       "   Unnamed: 0             business_id  cool                 date  funny  \\\n",
       "0           0  AakkkTuGZA2KBodKi2_u8A     0  2012-07-16 00:37:14      1   \n",
       "1           1  AakkkTuGZA2KBodKi2_u8A     0  2014-02-24 01:45:02      0   \n",
       "2           2  AakkkTuGZA2KBodKi2_u8A     0  2016-02-12 00:25:23      0   \n",
       "3           3  AakkkTuGZA2KBodKi2_u8A     0  2013-05-07 06:03:17      0   \n",
       "4           4  AakkkTuGZA2KBodKi2_u8A     0  2011-11-30 16:46:24      0   \n",
       "\n",
       "                review_id  stars_x  \\\n",
       "0  JVcjMhlavKKn3UIt9p9OXA        1   \n",
       "1  vKhtzhPUz9RJbllyvHm3qA        3   \n",
       "2  Je6AF9sTKwXwOVw2YHR1dg        5   \n",
       "3  b_xVF8U5Vqljz58OUEjqgA        4   \n",
       "4  vFPpG1xDBSWcvy_165fxKg        3   \n",
       "\n",
       "                                                text  useful  \\\n",
       "0  I cannot believe how things have changed in 3 ...       1   \n",
       "1  Pretty good, food,, about the same as other vi...       0   \n",
       "2  I've been going to this place since it opened ...       0   \n",
       "3  One of the best Vietnamese places I`ve tried i...       1   \n",
       "4  This place is just ok. Nice atmosphere, big op...       0   \n",
       "\n",
       "                  user_id  ...     city  \\\n",
       "0  TpyOT5E16YASd7EWjLQlrw  ...  Toronto   \n",
       "1  G-9ujgKmc1J2k7HSqXszsw  ...  Toronto   \n",
       "2  NA4sslQXta6U263fqzwKiw  ...  Toronto   \n",
       "3  1fNQRju9gmoCEvbPQBSo7w  ...  Toronto   \n",
       "4  fYJGKhZK2FZckYWDMdCooA  ...  Toronto   \n",
       "\n",
       "                                               hours is_open   latitude  \\\n",
       "0  {'Monday': '11:0-22:0', 'Tuesday': '11:0-22:0'...       1  43.649674   \n",
       "1  {'Monday': '11:0-22:0', 'Tuesday': '11:0-22:0'...       1  43.649674   \n",
       "2  {'Monday': '11:0-22:0', 'Tuesday': '11:0-22:0'...       1  43.649674   \n",
       "3  {'Monday': '11:0-22:0', 'Tuesday': '11:0-22:0'...       1  43.649674   \n",
       "4  {'Monday': '11:0-22:0', 'Tuesday': '11:0-22:0'...       1  43.649674   \n",
       "\n",
       "   longitude        name  postal_code  review_count stars_y state  \n",
       "0 -79.435116  Pho Phuong      M6K 1T9            55     3.5    ON  \n",
       "1 -79.435116  Pho Phuong      M6K 1T9            55     3.5    ON  \n",
       "2 -79.435116  Pho Phuong      M6K 1T9            55     3.5    ON  \n",
       "3 -79.435116  Pho Phuong      M6K 1T9            55     3.5    ON  \n",
       "4 -79.435116  Pho Phuong      M6K 1T9            55     3.5    ON  \n",
       "\n",
       "[5 rows x 23 columns]"
      ]
     },
     "execution_count": 4,
     "metadata": {},
     "output_type": "execute_result"
    }
   ],
   "source": [
    "# Preview review data\n",
    "print(f'Total {df.shape[0]} reviews')\n",
    "print('Review preview:')\n",
    "df.head()"
   ]
  },
  {
   "cell_type": "code",
   "execution_count": 29,
   "metadata": {},
   "outputs": [],
   "source": [
    "n_samples = 5000\n",
    "n_jobs = 1\n",
    "\n",
    "X = df.text[:n_samples]\n",
    "y = df.stars_x[:n_samples]"
   ]
  },
  {
   "cell_type": "code",
   "execution_count": 8,
   "metadata": {},
   "outputs": [],
   "source": [
    "def select_best_params(X, y, pipeline, params, grid_search):\n",
    "    print(f'pipeline: {[name for name, _ in pipeline.steps]}')\n",
    "    print(f'parameters: {params}')\n",
    "    t0 = time()\n",
    "    grid_search.fit(X, y)\n",
    "    print(f'done in {time() - t0}s')\n",
    "    print(f'Best score: {grid_search.best_score_}')\n",
    "    print('Best parameters set:')\n",
    "    best_params = grid_search.best_estimator_.get_params()\n",
    "    for param_name in sorted(params.keys()):    \n",
    "        print(f'{param_name}, {best_params[param_name]}')"
   ]
  },
  {
   "cell_type": "markdown",
   "metadata": {},
   "source": [
    "### Multinomial Naive Bayes"
   ]
  },
  {
   "cell_type": "code",
   "execution_count": 5,
   "metadata": {},
   "outputs": [],
   "source": [
    "# Define pipeline\n",
    "pipeline = Pipeline([\n",
    "    ('vect', CountVectorizer()),\n",
    "    ('tfidf', TfidfTransformer()),\n",
    "    ('clf', MultinomialNB())\n",
    "])"
   ]
  },
  {
   "cell_type": "code",
   "execution_count": 6,
   "metadata": {},
   "outputs": [],
   "source": [
    "# Define parameters\n",
    "parameters = {\n",
    "    'vect__min_df': (1, 5),\n",
    "    'vect__max_df': (0.6, 0.75, 0.9),\n",
    "    'vect__ngram_range': ((1,1), (1,2)),\n",
    "    'vect__stop_words': (None, 'english'),\n",
    "    # 'vect__max_features': (None, 5000, 10000, 50000),\n",
    "    # 'tfidf__use_idf': ('l1', 'l2'),\n",
    "    # 'clf__alpha': (0.1, 1, 10),\n",
    "    # 'clf__fit_prior': (True, False)\n",
    "}"
   ]
  },
  {
   "cell_type": "code",
   "execution_count": 7,
   "metadata": {},
   "outputs": [],
   "source": [
    "# Define grid search\n",
    "grid_search = GridSearchCV(pipeline, parameters, n_jobs=n_jobs, cv=5)"
   ]
  },
  {
   "cell_type": "code",
   "execution_count": 8,
   "metadata": {},
   "outputs": [
    {
     "name": "stdout",
     "output_type": "stream",
     "text": [
      "pipeline: ['vect', 'tfidf', 'clf']\n",
      "parameters: {'vect__min_df': (1, 5), 'vect__max_df': (0.6, 0.75, 0.9), 'vect__ngram_range': ((1, 1), (1, 2)), 'vect__stop_words': (None, 'english')}\n",
      "done in 7479.055411100388s\n",
      "Best score: 0.5182159774561776\n",
      "Best parameters set:\n",
      "vect__max_df, 0.6\n",
      "vect__min_df, 5\n",
      "vect__ngram_range, (1, 1)\n",
      "vect__stop_words, None\n"
     ]
    }
   ],
   "source": [
    "print(f'pipeline: {[name for name, _ in pipeline.steps]}')\n",
    "print(f'parameters: {parameters}')\n",
    "t0 = time()\n",
    "grid_search.fit(df.text, df.stars_x)\n",
    "print(f'done in {time() - t0}s')\n",
    "print(f'Best score: {grid_search.best_score_}')\n",
    "print('Best parameters set:')\n",
    "best_params = grid_search.best_estimator_.get_params()\n",
    "for param_name in sorted(parameters.keys()):    \n",
    "    print(f'{param_name}, {best_params[param_name]}')"
   ]
  },
  {
   "cell_type": "markdown",
   "metadata": {},
   "source": [
    "### Stochastic Gradient Descent"
   ]
  },
  {
   "cell_type": "code",
   "execution_count": 28,
   "metadata": {},
   "outputs": [],
   "source": [
    "# Define pipeline\n",
    "pipeline = Pipeline([\n",
    "    ('vect', CountVectorizer()),\n",
    "    ('tfidf', TfidfTransformer()),\n",
    "    ('clf', SGDClassifier())\n",
    "])"
   ]
  },
  {
   "cell_type": "code",
   "execution_count": 35,
   "metadata": {},
   "outputs": [],
   "source": [
    "# Define parameters\n",
    "parameters = {\n",
    "    'vect__min_df': (1, 5),\n",
    "    'vect__max_df': (0.6, 0.8),\n",
    "    'vect__ngram_range': ((1,1), (1,2)),\n",
    "    'vect__stop_words': (None, 'english'),\n",
    "    # 'vect__max_features': (None, 5000, 10000, 50000),\n",
    "    # 'tfidf__use_idf': ('l1', 'l2'),\n",
    "    'clf__max_iter': (5, 10),\n",
    "    'clf__random_state': [42],\n",
    "    'clf__tol': [None]\n",
    "}"
   ]
  },
  {
   "cell_type": "code",
   "execution_count": 36,
   "metadata": {},
   "outputs": [],
   "source": [
    "# Define grid search\n",
    "grid_search = GridSearchCV(pipeline, parameters, n_jobs=n_jobs, cv=5)"
   ]
  },
  {
   "cell_type": "code",
   "execution_count": 37,
   "metadata": {},
   "outputs": [
    {
     "name": "stdout",
     "output_type": "stream",
     "text": [
      "pipeline: ['vect', 'tfidf', 'clf']\n",
      "parameters: {'vect__min_df': (1, 5), 'vect__max_df': (0.6, 0.8), 'vect__ngram_range': ((1, 1), (1, 2)), 'vect__stop_words': (None, 'english'), 'clf__max_iter': (5, 10), 'clf__random_state': [42], 'clf__tol': [None]}\n",
      "done in 126.31073689460754s\n",
      "Best score: 0.5078\n",
      "Best parameters set:\n",
      "clf__max_iter, 5\n",
      "clf__random_state, 42\n",
      "clf__tol, None\n",
      "vect__max_df, 0.6\n",
      "vect__min_df, 1\n",
      "vect__ngram_range, (1, 2)\n",
      "vect__stop_words, None\n"
     ]
    }
   ],
   "source": [
    "select_best_params(X, y, pipeline, parameters, grid_search)"
   ]
  },
  {
   "cell_type": "code",
   "execution_count": null,
   "metadata": {},
   "outputs": [],
   "source": []
  }
 ],
 "metadata": {
  "kernelspec": {
   "display_name": "Python (springboard)",
   "language": "python",
   "name": "springboard"
  },
  "language_info": {
   "codemirror_mode": {
    "name": "ipython",
    "version": 3
   },
   "file_extension": ".py",
   "mimetype": "text/x-python",
   "name": "python",
   "nbconvert_exporter": "python",
   "pygments_lexer": "ipython3",
   "version": "3.8.0"
  }
 },
 "nbformat": 4,
 "nbformat_minor": 4
}
