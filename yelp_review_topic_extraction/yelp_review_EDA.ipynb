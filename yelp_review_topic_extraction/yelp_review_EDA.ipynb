{
 "cells": [
  {
   "cell_type": "markdown",
   "metadata": {},
   "source": [
    "# Yelp Review Exploratory Data Analysis"
   ]
  },
  {
   "cell_type": "code",
   "execution_count": 1,
   "metadata": {},
   "outputs": [],
   "source": [
    "import pandas as pd\n",
    "import numpy as np\n",
    "import matplotlib.pyplot as plt\n",
    "import seaborn as sns"
   ]
  },
  {
   "cell_type": "code",
   "execution_count": 2,
   "metadata": {},
   "outputs": [],
   "source": [
    "# Read toronto restaurant review data\n",
    "# Read data from gcp\n",
    "# df = pd.read_csv('gs://yelp_review_toronto_restaurant/toronto_restaurant_review.csv', index_col=0)\n",
    "# Read data from local file\n",
    "df = pd.read_csv('toronto_restaurant_review.csv')\n",
    "toronto_restaurant_review = df.text"
   ]
  },
  {
   "cell_type": "code",
   "execution_count": 3,
   "metadata": {},
   "outputs": [
    {
     "data": {
      "text/html": [
       "<div>\n",
       "<style scoped>\n",
       "    .dataframe tbody tr th:only-of-type {\n",
       "        vertical-align: middle;\n",
       "    }\n",
       "\n",
       "    .dataframe tbody tr th {\n",
       "        vertical-align: top;\n",
       "    }\n",
       "\n",
       "    .dataframe thead th {\n",
       "        text-align: right;\n",
       "    }\n",
       "</style>\n",
       "<table border=\"1\" class=\"dataframe\">\n",
       "  <thead>\n",
       "    <tr style=\"text-align: right;\">\n",
       "      <th></th>\n",
       "      <th>Unnamed: 0</th>\n",
       "      <th>business_id</th>\n",
       "      <th>cool</th>\n",
       "      <th>date</th>\n",
       "      <th>funny</th>\n",
       "      <th>review_id</th>\n",
       "      <th>stars_x</th>\n",
       "      <th>text</th>\n",
       "      <th>useful</th>\n",
       "      <th>user_id</th>\n",
       "      <th>...</th>\n",
       "      <th>city</th>\n",
       "      <th>hours</th>\n",
       "      <th>is_open</th>\n",
       "      <th>latitude</th>\n",
       "      <th>longitude</th>\n",
       "      <th>name</th>\n",
       "      <th>postal_code</th>\n",
       "      <th>review_count</th>\n",
       "      <th>stars_y</th>\n",
       "      <th>state</th>\n",
       "    </tr>\n",
       "  </thead>\n",
       "  <tbody>\n",
       "    <tr>\n",
       "      <th>0</th>\n",
       "      <td>0</td>\n",
       "      <td>AakkkTuGZA2KBodKi2_u8A</td>\n",
       "      <td>0</td>\n",
       "      <td>2012-07-16 00:37:14</td>\n",
       "      <td>1</td>\n",
       "      <td>JVcjMhlavKKn3UIt9p9OXA</td>\n",
       "      <td>1</td>\n",
       "      <td>I cannot believe how things have changed in 3 ...</td>\n",
       "      <td>1</td>\n",
       "      <td>TpyOT5E16YASd7EWjLQlrw</td>\n",
       "      <td>...</td>\n",
       "      <td>Toronto</td>\n",
       "      <td>{'Monday': '11:0-22:0', 'Tuesday': '11:0-22:0'...</td>\n",
       "      <td>1</td>\n",
       "      <td>43.649674</td>\n",
       "      <td>-79.435116</td>\n",
       "      <td>Pho Phuong</td>\n",
       "      <td>M6K 1T9</td>\n",
       "      <td>55</td>\n",
       "      <td>3.5</td>\n",
       "      <td>ON</td>\n",
       "    </tr>\n",
       "    <tr>\n",
       "      <th>1</th>\n",
       "      <td>1</td>\n",
       "      <td>AakkkTuGZA2KBodKi2_u8A</td>\n",
       "      <td>0</td>\n",
       "      <td>2014-02-24 01:45:02</td>\n",
       "      <td>0</td>\n",
       "      <td>vKhtzhPUz9RJbllyvHm3qA</td>\n",
       "      <td>3</td>\n",
       "      <td>Pretty good, food,, about the same as other vi...</td>\n",
       "      <td>0</td>\n",
       "      <td>G-9ujgKmc1J2k7HSqXszsw</td>\n",
       "      <td>...</td>\n",
       "      <td>Toronto</td>\n",
       "      <td>{'Monday': '11:0-22:0', 'Tuesday': '11:0-22:0'...</td>\n",
       "      <td>1</td>\n",
       "      <td>43.649674</td>\n",
       "      <td>-79.435116</td>\n",
       "      <td>Pho Phuong</td>\n",
       "      <td>M6K 1T9</td>\n",
       "      <td>55</td>\n",
       "      <td>3.5</td>\n",
       "      <td>ON</td>\n",
       "    </tr>\n",
       "    <tr>\n",
       "      <th>2</th>\n",
       "      <td>2</td>\n",
       "      <td>AakkkTuGZA2KBodKi2_u8A</td>\n",
       "      <td>0</td>\n",
       "      <td>2016-02-12 00:25:23</td>\n",
       "      <td>0</td>\n",
       "      <td>Je6AF9sTKwXwOVw2YHR1dg</td>\n",
       "      <td>5</td>\n",
       "      <td>I've been going to this place since it opened ...</td>\n",
       "      <td>0</td>\n",
       "      <td>NA4sslQXta6U263fqzwKiw</td>\n",
       "      <td>...</td>\n",
       "      <td>Toronto</td>\n",
       "      <td>{'Monday': '11:0-22:0', 'Tuesday': '11:0-22:0'...</td>\n",
       "      <td>1</td>\n",
       "      <td>43.649674</td>\n",
       "      <td>-79.435116</td>\n",
       "      <td>Pho Phuong</td>\n",
       "      <td>M6K 1T9</td>\n",
       "      <td>55</td>\n",
       "      <td>3.5</td>\n",
       "      <td>ON</td>\n",
       "    </tr>\n",
       "    <tr>\n",
       "      <th>3</th>\n",
       "      <td>3</td>\n",
       "      <td>AakkkTuGZA2KBodKi2_u8A</td>\n",
       "      <td>0</td>\n",
       "      <td>2013-05-07 06:03:17</td>\n",
       "      <td>0</td>\n",
       "      <td>b_xVF8U5Vqljz58OUEjqgA</td>\n",
       "      <td>4</td>\n",
       "      <td>One of the best Vietnamese places I`ve tried i...</td>\n",
       "      <td>1</td>\n",
       "      <td>1fNQRju9gmoCEvbPQBSo7w</td>\n",
       "      <td>...</td>\n",
       "      <td>Toronto</td>\n",
       "      <td>{'Monday': '11:0-22:0', 'Tuesday': '11:0-22:0'...</td>\n",
       "      <td>1</td>\n",
       "      <td>43.649674</td>\n",
       "      <td>-79.435116</td>\n",
       "      <td>Pho Phuong</td>\n",
       "      <td>M6K 1T9</td>\n",
       "      <td>55</td>\n",
       "      <td>3.5</td>\n",
       "      <td>ON</td>\n",
       "    </tr>\n",
       "    <tr>\n",
       "      <th>4</th>\n",
       "      <td>4</td>\n",
       "      <td>AakkkTuGZA2KBodKi2_u8A</td>\n",
       "      <td>0</td>\n",
       "      <td>2011-11-30 16:46:24</td>\n",
       "      <td>0</td>\n",
       "      <td>vFPpG1xDBSWcvy_165fxKg</td>\n",
       "      <td>3</td>\n",
       "      <td>This place is just ok. Nice atmosphere, big op...</td>\n",
       "      <td>0</td>\n",
       "      <td>fYJGKhZK2FZckYWDMdCooA</td>\n",
       "      <td>...</td>\n",
       "      <td>Toronto</td>\n",
       "      <td>{'Monday': '11:0-22:0', 'Tuesday': '11:0-22:0'...</td>\n",
       "      <td>1</td>\n",
       "      <td>43.649674</td>\n",
       "      <td>-79.435116</td>\n",
       "      <td>Pho Phuong</td>\n",
       "      <td>M6K 1T9</td>\n",
       "      <td>55</td>\n",
       "      <td>3.5</td>\n",
       "      <td>ON</td>\n",
       "    </tr>\n",
       "  </tbody>\n",
       "</table>\n",
       "<p>5 rows × 23 columns</p>\n",
       "</div>"
      ],
      "text/plain": [
       "   Unnamed: 0             business_id  cool                 date  funny  \\\n",
       "0           0  AakkkTuGZA2KBodKi2_u8A     0  2012-07-16 00:37:14      1   \n",
       "1           1  AakkkTuGZA2KBodKi2_u8A     0  2014-02-24 01:45:02      0   \n",
       "2           2  AakkkTuGZA2KBodKi2_u8A     0  2016-02-12 00:25:23      0   \n",
       "3           3  AakkkTuGZA2KBodKi2_u8A     0  2013-05-07 06:03:17      0   \n",
       "4           4  AakkkTuGZA2KBodKi2_u8A     0  2011-11-30 16:46:24      0   \n",
       "\n",
       "                review_id  stars_x  \\\n",
       "0  JVcjMhlavKKn3UIt9p9OXA        1   \n",
       "1  vKhtzhPUz9RJbllyvHm3qA        3   \n",
       "2  Je6AF9sTKwXwOVw2YHR1dg        5   \n",
       "3  b_xVF8U5Vqljz58OUEjqgA        4   \n",
       "4  vFPpG1xDBSWcvy_165fxKg        3   \n",
       "\n",
       "                                                text  useful  \\\n",
       "0  I cannot believe how things have changed in 3 ...       1   \n",
       "1  Pretty good, food,, about the same as other vi...       0   \n",
       "2  I've been going to this place since it opened ...       0   \n",
       "3  One of the best Vietnamese places I`ve tried i...       1   \n",
       "4  This place is just ok. Nice atmosphere, big op...       0   \n",
       "\n",
       "                  user_id  ...     city  \\\n",
       "0  TpyOT5E16YASd7EWjLQlrw  ...  Toronto   \n",
       "1  G-9ujgKmc1J2k7HSqXszsw  ...  Toronto   \n",
       "2  NA4sslQXta6U263fqzwKiw  ...  Toronto   \n",
       "3  1fNQRju9gmoCEvbPQBSo7w  ...  Toronto   \n",
       "4  fYJGKhZK2FZckYWDMdCooA  ...  Toronto   \n",
       "\n",
       "                                               hours is_open   latitude  \\\n",
       "0  {'Monday': '11:0-22:0', 'Tuesday': '11:0-22:0'...       1  43.649674   \n",
       "1  {'Monday': '11:0-22:0', 'Tuesday': '11:0-22:0'...       1  43.649674   \n",
       "2  {'Monday': '11:0-22:0', 'Tuesday': '11:0-22:0'...       1  43.649674   \n",
       "3  {'Monday': '11:0-22:0', 'Tuesday': '11:0-22:0'...       1  43.649674   \n",
       "4  {'Monday': '11:0-22:0', 'Tuesday': '11:0-22:0'...       1  43.649674   \n",
       "\n",
       "   longitude        name  postal_code  review_count stars_y state  \n",
       "0 -79.435116  Pho Phuong      M6K 1T9            55     3.5    ON  \n",
       "1 -79.435116  Pho Phuong      M6K 1T9            55     3.5    ON  \n",
       "2 -79.435116  Pho Phuong      M6K 1T9            55     3.5    ON  \n",
       "3 -79.435116  Pho Phuong      M6K 1T9            55     3.5    ON  \n",
       "4 -79.435116  Pho Phuong      M6K 1T9            55     3.5    ON  \n",
       "\n",
       "[5 rows x 23 columns]"
      ]
     },
     "execution_count": 3,
     "metadata": {},
     "output_type": "execute_result"
    }
   ],
   "source": [
    "df.head()"
   ]
  },
  {
   "cell_type": "markdown",
   "metadata": {},
   "source": [
    "## 1. What is the average length of the review?"
   ]
  },
  {
   "cell_type": "markdown",
   "metadata": {},
   "source": [
    "### Distribution of Character & Word Counts in Reviews"
   ]
  },
  {
   "cell_type": "code",
   "execution_count": 15,
   "metadata": {},
   "outputs": [],
   "source": [
    "review_lens = [len(review) for review in df.text]\n",
    "review_word_lens = [len(review.split()) for review in df.text]"
   ]
  },
  {
   "cell_type": "code",
   "execution_count": 16,
   "metadata": {},
   "outputs": [
    {
     "data": {
      "image/png": "[encoded data removed]",
      "text/plain": [
       "<Figure size 1080x360 with 2 Axes>"
      ]
     },
     "metadata": {
      "needs_background": "light"
     },
     "output_type": "display_data"
    }
   ],
   "source": [
    "fig, axs = plt.subplots(1, 2, figsize=(15, 5))\n",
    "sns.distplot(review_lens, ax=axs[0])\n",
    "axs[0].set_xlabel('Number of Character Counts')\n",
    "sns.distplot(review_word_lens, ax=axs[1])\n",
    "axs[1].set_xlabel('Number of Word Counts')\n",
    "plt.show()"
   ]
  },
  {
   "cell_type": "markdown",
   "metadata": {},
   "source": [
    "### Boxplot of Word Counts in Reviews"
   ]
  },
  {
   "cell_type": "code",
   "execution_count": 17,
   "metadata": {},
   "outputs": [
    {
     "data": {
      "image/png": "[encoded data removed]",
      "text/plain": [
       "<Figure size 432x288 with 1 Axes>"
      ]
     },
     "metadata": {
      "needs_background": "light"
     },
     "output_type": "display_data"
    }
   ],
   "source": [
    "sns.boxplot(x=review_word_lens)\n",
    "plt.xlabel('Number of Word Counts')\n",
    "plt.show()"
   ]
  },
  {
   "cell_type": "markdown",
   "metadata": {},
   "source": [
    "### Statistics of Word Counts in Reviews"
   ]
  },
  {
   "cell_type": "code",
   "execution_count": 14,
   "metadata": {
    "scrolled": true
   },
   "outputs": [
    {
     "name": "stdout",
     "output_type": "stream",
     "text": [
      "Mean of Word Counts: 122\n",
      "Median of Word Counts: 91.0\n",
      "STD of Word Counts: 108\n"
     ]
    }
   ],
   "source": [
    "print(f'Mean of Word Counts: {np.mean(review_word_lens, dtype=int)}')\n",
    "print(f'Median of Word Counts: {np.median(review_word_lens)}')\n",
    "print(f'STD of Word Counts: {np.std(review_word_lens, dtype=int)}')"
   ]
  },
  {
   "cell_type": "markdown",
   "metadata": {},
   "source": [
    "### Conclusion\n",
    "As there are some really long reviews, median is used for average.\n",
    "\n",
    "The average length of reivews are 91 words with std 108 words."
   ]
  },
  {
   "cell_type": "markdown",
   "metadata": {},
   "source": [
    "## 2. There are three labels for reviews (useful, funny, cool), which one do people use more frequently?"
   ]
  },
  {
   "cell_type": "code",
   "execution_count": 6,
   "metadata": {},
   "outputs": [
    {
     "data": {
      "image/png": "[encoded data removed]",
      "text/plain": [
       "<Figure size 432x288 with 1 Axes>"
      ]
     },
     "metadata": {
      "needs_background": "light"
     },
     "output_type": "display_data"
    }
   ],
   "source": [
    "review_labels = ['useful', 'funny', 'cool']\n",
    "sums = df[review_labels].sum()\n",
    "index = np.arange(len(sums))\n",
    "\n",
    "plt.bar(index, sums)\n",
    "plt.xticks(index, review_labels)\n",
    "plt.ylabel('Number of Labels')\n",
    "plt.show()"
   ]
  },
  {
   "cell_type": "markdown",
   "metadata": {},
   "source": [
    "### Conclusion\n",
    "People use useful label more often than the other two."
   ]
  },
  {
   "cell_type": "markdown",
   "metadata": {},
   "source": [
    "## 3. What is the distribution of the star given by customers?"
   ]
  },
  {
   "cell_type": "code",
   "execution_count": 5,
   "metadata": {},
   "outputs": [
    {
     "data": {
      "image/png": "[encoded data removed]",
      "text/plain": [
       "<Figure size 432x288 with 1 Axes>"
      ]
     },
     "metadata": {
      "needs_background": "light"
     },
     "output_type": "display_data"
    }
   ],
   "source": [
    "plt.hist(df.stars_x)\n",
    "plt.show()"
   ]
  },
  {
   "cell_type": "markdown",
   "metadata": {},
   "source": [
    "### Conclusion\n",
    "From the plot, customers give more good stars (stars higher than 3)."
   ]
  },
  {
   "cell_type": "markdown",
   "metadata": {},
   "source": [
    "## Is there any relationship between the length of review and the labels?"
   ]
  },
  {
   "cell_type": "markdown",
   "metadata": {},
   "source": [
    "## Is there any relationship between the stars of the review and the labels?"
   ]
  },
  {
   "cell_type": "markdown",
   "metadata": {},
   "source": [
    "### Is there any relationship between the stars of the restaurant and the number of reviews of that restaurant?"
   ]
  },
  {
   "cell_type": "code",
   "execution_count": null,
   "metadata": {},
   "outputs": [],
   "source": []
  }
 ],
 "metadata": {
  "kernelspec": {
   "display_name": "Python (springboard)",
   "language": "python",
   "name": "springboard"
  },
  "language_info": {
   "codemirror_mode": {
    "name": "ipython",
    "version": 3
   },
   "file_extension": ".py",
   "mimetype": "text/x-python",
   "name": "python",
   "nbconvert_exporter": "python",
   "pygments_lexer": "ipython3",
   "version": "3.8.0"
  }
 },
 "nbformat": 4,
 "nbformat_minor": 4
}
