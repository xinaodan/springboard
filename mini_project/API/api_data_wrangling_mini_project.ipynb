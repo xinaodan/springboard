{
 "cells": [
  {
   "cell_type": "markdown",
   "metadata": {},
   "source": [
    "This exercise will require you to pull some data from the Qunadl API. Qaundl is currently the most widely used aggregator of financial market data."
   ]
  },
  {
   "cell_type": "markdown",
   "metadata": {},
   "source": [
    "As a first step, you will need to register a free account on the http://www.quandl.com website."
   ]
  },
  {
   "cell_type": "markdown",
   "metadata": {},
   "source": [
    "After you register, you will be provided with a unique API key, that you should store:"
   ]
  },
  {
   "cell_type": "code",
   "execution_count": 32,
   "metadata": {},
   "outputs": [],
   "source": [
    "# Store the API key as a string - according to PEP8, constants are always named in all upper case\n",
    "API_KEY = ''"
   ]
  },
  {
   "cell_type": "markdown",
   "metadata": {},
   "source": [
    "Qaundl has a large number of data sources, but, unfortunately, most of them require a Premium subscription. Still, there are also a good number of free datasets."
   ]
  },
  {
   "cell_type": "markdown",
   "metadata": {},
   "source": [
    "For this mini project, we will focus on equities data from the Frankfurt Stock Exhange (FSE), which is available for free. We'll try and analyze the stock prices of a company called Carl Zeiss Meditec, which manufactures tools for eye examinations, as well as medical lasers for laser eye surgery: https://www.zeiss.com/meditec/int/home.html. The company is listed under the stock ticker AFX_X."
   ]
  },
  {
   "cell_type": "markdown",
   "metadata": {},
   "source": [
    "You can find the detailed Quandl API instructions here: https://docs.quandl.com/docs/time-series"
   ]
  },
  {
   "cell_type": "markdown",
   "metadata": {},
   "source": [
    "While there is a dedicated Python package for connecting to the Quandl API, we would prefer that you use the *requests* package, which can be easily downloaded using *pip* or *conda*. You can find the documentation for the package here: http://docs.python-requests.org/en/master/ "
   ]
  },
  {
   "cell_type": "markdown",
   "metadata": {},
   "source": [
    "Finally, apart from the *requests* package, you are encouraged to not use any third party Python packages, such as *pandas*, and instead focus on what's available in the Python Standard Library (the *collections* module might come in handy: https://pymotw.com/3/collections/ ).\n",
    "Also, since you won't have access to DataFrames, you are encouraged to us Python's native data structures - preferably dictionaries, though some questions can also be answered using lists.\n",
    "You can read more on these data structures here: https://docs.python.org/3/tutorial/datastructures.html"
   ]
  },
  {
   "cell_type": "markdown",
   "metadata": {},
   "source": [
    "Keep in mind that the JSON responses you will be getting from the API map almost one-to-one to Python's dictionaries. Unfortunately, they can be very nested, so make sure you read up on indexing dictionaries in the documentation provided above."
   ]
  },
  {
   "cell_type": "code",
   "execution_count": 10,
   "metadata": {},
   "outputs": [],
   "source": [
    "# First, import the relevant modules\n",
    "import requests\n",
    "import json\n",
    "import pprint"
   ]
  },
  {
   "cell_type": "code",
   "execution_count": 44,
   "metadata": {},
   "outputs": [],
   "source": [
    "# Now, call the Quandl API and pull out a small sample of the data (only one day) to get a glimpse\n",
    "# into the JSON structure that will be returned\n",
    "url = 'https://www.quandl.com/api/v3/datasets/FSE/AFX_X/data.json'\n",
    "params = {'api_key': API_KEY,\n",
    "          'start_date': '2017-07-05',\n",
    "          'end_date': '2017-07-06'}\n",
    "r = requests.get(url, params)"
   ]
  },
  {
   "cell_type": "code",
   "execution_count": 45,
   "metadata": {},
   "outputs": [
    {
     "name": "stdout",
     "output_type": "stream",
     "text": [
      "{'dataset_data': {'collapse': None,\n",
      "                  'column_index': None,\n",
      "                  'column_names': ['Date',\n",
      "                                   'Open',\n",
      "                                   'High',\n",
      "                                   'Low',\n",
      "                                   'Close',\n",
      "                                   'Change',\n",
      "                                   'Traded Volume',\n",
      "                                   'Turnover',\n",
      "                                   'Last Price of the Day',\n",
      "                                   'Daily Traded Units',\n",
      "                                   'Daily Turnover'],\n",
      "                  'data': [['2017-07-06',\n",
      "                            45.5,\n",
      "                            45.5,\n",
      "                            44.15,\n",
      "                            44.62,\n",
      "                            None,\n",
      "                            66116.0,\n",
      "                            2952605.0,\n",
      "                            None,\n",
      "                            None,\n",
      "                            None],\n",
      "                           ['2017-07-05',\n",
      "                            44.67,\n",
      "                            45.36,\n",
      "                            44.44,\n",
      "                            45.19,\n",
      "                            None,\n",
      "                            48706.0,\n",
      "                            2189436.0,\n",
      "                            None,\n",
      "                            None,\n",
      "                            None]],\n",
      "                  'end_date': '2017-07-06',\n",
      "                  'frequency': 'daily',\n",
      "                  'limit': None,\n",
      "                  'order': None,\n",
      "                  'start_date': '2017-07-05',\n",
      "                  'transform': None}}\n"
     ]
    }
   ],
   "source": [
    "# Inspect the JSON structure of the object you created, and take note of how nested it is,\n",
    "# as well as the overall structure\n",
    "pprint.pprint(r.json())"
   ]
  },
  {
   "cell_type": "markdown",
   "metadata": {},
   "source": [
    "These are your tasks for this mini project:\n",
    "\n",
    "1. Collect data from the Franfurt Stock Exchange, for the ticker AFX_X, for the whole year 2017 (keep in mind that the date format is YYYY-MM-DD).\n",
    "2. Convert the returned JSON object into a Python dictionary.\n",
    "3. Calculate what the highest and lowest opening prices were for the stock in this period.\n",
    "4. What was the largest change in any one day (based on High and Low price)?\n",
    "5. What was the largest change between any two days (based on Closing Price)?\n",
    "6. What was the average daily trading volume during this year?\n",
    "7. (Optional) What was the median trading volume during this year. (Note: you may need to implement your own function for calculating the median.)"
   ]
  },
  {
   "cell_type": "code",
   "execution_count": 37,
   "metadata": {},
   "outputs": [],
   "source": [
    "# 1. Collect data from the Franfurt Stock Exchange, for the ticker AFX_X, \n",
    "# for the whole year 2017 (keep in mind that the date format is YYYY-MM-DD)\n",
    "\n",
    "params = {'api_key': API_KEY,\n",
    "          'start_date': '2017-01-01',\n",
    "          'end_date': '2017-12-31'}\n",
    "r = requests.get(url, params)"
   ]
  },
  {
   "cell_type": "code",
   "execution_count": 38,
   "metadata": {},
   "outputs": [],
   "source": [
    "# 2. Convert the returned JSON object into a Python dictionary\n",
    "r_dict = r.json()"
   ]
  },
  {
   "cell_type": "code",
   "execution_count": 46,
   "metadata": {},
   "outputs": [
    {
     "name": "stdout",
     "output_type": "stream",
     "text": [
      "Highest opening price is: 53.11\n",
      "Lowest opening price is: 34.0\n"
     ]
    }
   ],
   "source": [
    "# 3. Calculate what the highest and lowest opening prices were for the stock in this period\n",
    "data = r_dict['dataset_data']['data']\n",
    "\n",
    "opening_price = [x[1] for x in data if x[1] is not None]\n",
    "highest_open_price = max(opening_price)\n",
    "lowest_open_price = min(opening_price)\n",
    "print(f'Highest opening price is: {highest_open_price}')\n",
    "print(f'Lowest opening price is: {lowest_open_price}')"
   ]
  },
  {
   "cell_type": "code",
   "execution_count": 47,
   "metadata": {},
   "outputs": [
    {
     "name": "stdout",
     "output_type": "stream",
     "text": [
      "Largest change is: 2.8100000000000023\n"
     ]
    }
   ],
   "source": [
    "# 4. What was the largest change in any one day (based on High and Low price)?\n",
    "largest_change_in_day = max([abs(x[2] - x[3]) for x in data if x[2] is not None and x[3] is not None])\n",
    "print(f'Largest change in any one day is: {largest_change_in_day}')"
   ]
  },
  {
   "cell_type": "code",
   "execution_count": 50,
   "metadata": {},
   "outputs": [
    {
     "name": "stdout",
     "output_type": "stream",
     "text": [
      "Largest change between any two days is: 19.03\n"
     ]
    }
   ],
   "source": [
    "# 5. What was the largest change between any two days (based on Closing Price)?\n",
    "closing_price = [x[4] for x in data if x[4] is not None]\n",
    "print(f'Largest change between any two days is: {max(closing_price) - min(closing_price)}')"
   ]
  },
  {
   "cell_type": "code",
   "execution_count": 52,
   "metadata": {},
   "outputs": [
    {
     "name": "stdout",
     "output_type": "stream",
     "text": [
      "Average daily trading volume is: 89124.33725490196\n"
     ]
    }
   ],
   "source": [
    "# 6. What was the average daily trading volume during this year?\n",
    "trading_volume = [x[6] for x in data]\n",
    "avg_daily_trading_volume = sum(trading_volume) / len(data)\n",
    "print(f'Average daily trading volume is: {avg_daily_trading_volume}')"
   ]
  },
  {
   "cell_type": "code",
   "execution_count": 55,
   "metadata": {},
   "outputs": [
    {
     "name": "stdout",
     "output_type": "stream",
     "text": [
      "Median trading volume is: 76286.0\n"
     ]
    }
   ],
   "source": [
    "# 7. (Optional) What was the median trading volume during this year. \n",
    "# (Note: you may need to implement your own function for calculating the median.)\n",
    "trading_volume_sorted = sorted(trading_volume)\n",
    "trading_volumn_len = len(trading_volume_sorted)\n",
    "mid = trading_volumn_len // 2\n",
    "if trading_volumn_len % 2 == 0:\n",
    "    median_trading_volume = (trading_volume_sorted[mid] + trading_volume_sorted[mid-1]) / 2\n",
    "else:\n",
    "    median_trading_volume = trading_volume_sorted[mid]\n",
    "print(f'Median trading volume is: {median_trading_volume}')"
   ]
  }
 ],
 "metadata": {
  "kernelspec": {
   "display_name": "Python 3",
   "language": "python",
   "name": "python3"
  },
  "language_info": {
   "codemirror_mode": {
    "name": "ipython",
    "version": 3
   },
   "file_extension": ".py",
   "mimetype": "text/x-python",
   "name": "python",
   "nbconvert_exporter": "python",
   "pygments_lexer": "ipython3",
   "version": "3.7.3"
  }
 },
 "nbformat": 4,
 "nbformat_minor": 2
}
