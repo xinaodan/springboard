{
 "cells": [
  {
   "cell_type": "markdown",
   "metadata": {},
   "source": [
    "# What is the True Normal Human Body Temperature? \n",
    "\n",
    "#### Background\n",
    "\n",
    "The mean normal body temperature was held to be 37$^{\\circ}$C or 98.6$^{\\circ}$F for more than 120 years since it was first conceptualized and reported by Carl Wunderlich in a famous 1868 book. But, is this value statistically correct?"
   ]
  },
  {
   "cell_type": "markdown",
   "metadata": {},
   "source": [
    "<h3>Exercises</h3>\n",
    "\n",
    "<p>In this exercise, you will analyze a dataset of human body temperatures and employ the concepts of hypothesis testing, confidence intervals, and statistical significance.</p>\n",
    "\n",
    "<p>Answer the following questions <b>in this notebook below and submit to your Github account</b>.</p> \n",
    "\n",
    "<ol>\n",
    "<li>  Is the distribution of body temperatures normal? \n",
    "    <ul>\n",
    "    <li> Although this is not a requirement for the Central Limit Theorem to hold (read the introduction on Wikipedia's page about the CLT carefully: https://en.wikipedia.org/wiki/Central_limit_theorem), it gives us some peace of mind that the population may also be normally distributed if we assume that this sample is representative of the population.\n",
    "    <li> Think about the way you're going to check for the normality of the distribution. Graphical methods are usually used first, but there are also other ways: https://en.wikipedia.org/wiki/Normality_test\n",
    "    </ul>\n",
    "<li>  Is the sample size large? Are the observations independent?\n",
    "    <ul>\n",
    "    <li> Remember that this is a condition for the Central Limit Theorem, and hence the statistical tests we are using, to apply.\n",
    "    </ul>\n",
    "<li>  Is the true population mean really 98.6 degrees F?\n",
    "    <ul>\n",
    "    <li> First, try a bootstrap hypothesis test.\n",
    "    <li> Now, let's try frequentist statistical testing. Would you use a one-sample or two-sample test? Why?\n",
    "    <li> In this situation, is it appropriate to use the $t$ or $z$ statistic? \n",
    "    <li> Now try using the other test. How is the result be different? Why?\n",
    "    </ul>\n",
    "<li>  Draw a small sample of size 10 from the data and repeat both frequentist tests. \n",
    "    <ul>\n",
    "    <li> Which one is the correct one to use? \n",
    "    <li> What do you notice? What does this tell you about the difference in application of the $t$ and $z$ statistic?\n",
    "    </ul>\n",
    "<li>  At what temperature should we consider someone's temperature to be \"abnormal\"?\n",
    "    <ul>\n",
    "    <li> As in the previous example, try calculating everything using the boostrap approach, as well as the frequentist approach.\n",
    "    <li> Start by computing the margin of error and confidence interval. When calculating the confidence interval, keep in mind that you should use the appropriate formula for one draw, and not N draws.\n",
    "    </ul>\n",
    "<li>  Is there a significant difference between males and females in normal temperature?\n",
    "    <ul>\n",
    "    <li> What testing approach did you use and why?\n",
    "    <li> Write a story with your conclusion in the context of the original problem.\n",
    "    </ul>\n",
    "</ol>\n",
    "\n",
    "You can include written notes in notebook cells using Markdown: \n",
    "   - In the control panel at the top, choose Cell > Cell Type > Markdown\n",
    "   - Markdown syntax: http://nestacms.com/docs/creating-content/markdown-cheat-sheet\n",
    "\n",
    "#### Resources\n",
    "\n",
    "+ Information and data sources: http://www.amstat.org/publications/jse/datasets/normtemp.txt, http://www.amstat.org/publications/jse/jse_data_archive.htm\n",
    "+ Markdown syntax: http://nestacms.com/docs/creating-content/markdown-cheat-sheet\n",
    "\n",
    "****"
   ]
  },
  {
   "cell_type": "code",
   "execution_count": 1,
   "metadata": {},
   "outputs": [],
   "source": [
    "import pandas as pd\n",
    "\n",
    "df = pd.read_csv('data/human_body_temperature.csv')"
   ]
  },
  {
   "cell_type": "code",
   "execution_count": 2,
   "metadata": {},
   "outputs": [],
   "source": [
    "import numpy as np\n",
    "import matplotlib.pyplot as plt\n",
    "import seaborn as sns\n",
    "from statsmodels.graphics.gofplots import qqplot\n",
    "from scipy import stats\n",
    "from statsmodels.graphics.gofplots import qqplot\n",
    "from statsmodels.stats.weightstats import ztest\n",
    "\n",
    "size_sim = 10000\n",
    "alpha = 0.05    #Significance level"
   ]
  },
  {
   "cell_type": "code",
   "execution_count": 3,
   "metadata": {
    "scrolled": true
   },
   "outputs": [
    {
     "data": {
      "text/html": [
       "<div>\n",
       "<style scoped>\n",
       "    .dataframe tbody tr th:only-of-type {\n",
       "        vertical-align: middle;\n",
       "    }\n",
       "\n",
       "    .dataframe tbody tr th {\n",
       "        vertical-align: top;\n",
       "    }\n",
       "\n",
       "    .dataframe thead th {\n",
       "        text-align: right;\n",
       "    }\n",
       "</style>\n",
       "<table border=\"1\" class=\"dataframe\">\n",
       "  <thead>\n",
       "    <tr style=\"text-align: right;\">\n",
       "      <th></th>\n",
       "      <th>temperature</th>\n",
       "      <th>gender</th>\n",
       "      <th>heart_rate</th>\n",
       "    </tr>\n",
       "  </thead>\n",
       "  <tbody>\n",
       "    <tr>\n",
       "      <th>0</th>\n",
       "      <td>99.3</td>\n",
       "      <td>F</td>\n",
       "      <td>68.0</td>\n",
       "    </tr>\n",
       "    <tr>\n",
       "      <th>1</th>\n",
       "      <td>98.4</td>\n",
       "      <td>F</td>\n",
       "      <td>81.0</td>\n",
       "    </tr>\n",
       "    <tr>\n",
       "      <th>2</th>\n",
       "      <td>97.8</td>\n",
       "      <td>M</td>\n",
       "      <td>73.0</td>\n",
       "    </tr>\n",
       "    <tr>\n",
       "      <th>3</th>\n",
       "      <td>99.2</td>\n",
       "      <td>F</td>\n",
       "      <td>66.0</td>\n",
       "    </tr>\n",
       "    <tr>\n",
       "      <th>4</th>\n",
       "      <td>98.0</td>\n",
       "      <td>F</td>\n",
       "      <td>73.0</td>\n",
       "    </tr>\n",
       "  </tbody>\n",
       "</table>\n",
       "</div>"
      ],
      "text/plain": [
       "   temperature gender  heart_rate\n",
       "0         99.3      F        68.0\n",
       "1         98.4      F        81.0\n",
       "2         97.8      M        73.0\n",
       "3         99.2      F        66.0\n",
       "4         98.0      F        73.0"
      ]
     },
     "execution_count": 3,
     "metadata": {},
     "output_type": "execute_result"
    }
   ],
   "source": [
    "df.head()"
   ]
  },
  {
   "cell_type": "markdown",
   "metadata": {},
   "source": [
    "# Helper Methods"
   ]
  },
  {
   "cell_type": "code",
   "execution_count": 11,
   "metadata": {},
   "outputs": [],
   "source": [
    "def ecdf(data):\n",
    "    n = len(data)\n",
    "    x = np.sort(data)\n",
    "    y = np.arange(1, n+1) / n\n",
    "    return x, y"
   ]
  },
  {
   "cell_type": "code",
   "execution_count": 10,
   "metadata": {},
   "outputs": [],
   "source": [
    "def draw_bs_reps(data, func, size=1):\n",
    "    bs_reps = np.empty(size)\n",
    "    for i in range(size):\n",
    "        bs_sample = np.random.choice(data, size=len(data))\n",
    "        bs_rep = func(bs_sample)\n",
    "        bs_reps[i] = bs_rep\n",
    "    return bs_reps"
   ]
  },
  {
   "cell_type": "markdown",
   "metadata": {},
   "source": [
    "# 1. Is the distribution of body temperatures normal?"
   ]
  },
  {
   "cell_type": "code",
   "execution_count": 60,
   "metadata": {},
   "outputs": [
    {
     "data": {
      "text/plain": [
       "(array([0.06837607, 0.06837607, 0.06837607, 0.13675214, 0.30769231,\n",
       "        0.20512821, 0.34188034, 0.54700855, 0.61538462, 0.41025641,\n",
       "        0.61538462, 0.41025641, 0.37606838, 0.13675214, 0.03418803,\n",
       "        0.        , 0.06837607, 0.        , 0.        , 0.03418803]),\n",
       " array([ 96.3  ,  96.525,  96.75 ,  96.975,  97.2  ,  97.425,  97.65 ,\n",
       "         97.875,  98.1  ,  98.325,  98.55 ,  98.775,  99.   ,  99.225,\n",
       "         99.45 ,  99.675,  99.9  , 100.125, 100.35 , 100.575, 100.8  ]),\n",
       " <a list of 20 Patch objects>)"
      ]
     },
     "execution_count": 60,
     "metadata": {},
     "output_type": "execute_result"
    },
    {
     "data": {
      "image/png": "[encoded data removed]",
      "text/plain": [
       "<Figure size 432x288 with 2 Axes>"
      ]
     },
     "metadata": {
      "needs_background": "light"
     },
     "output_type": "display_data"
    }
   ],
   "source": [
    "# Visualize temperature data\n",
    "fig, axs = plt.subplots(1, 2, sharey=True)\n",
    "axs[0].hist(df.temperature, bins=10, density=True)\n",
    "axs[1].hist(df.temperature, bins=20, density=True)"
   ]
  },
  {
   "cell_type": "code",
   "execution_count": 33,
   "metadata": {},
   "outputs": [
    {
     "data": {
      "text/plain": [
       "[<matplotlib.lines.Line2D at 0x1a260aae48>]"
      ]
     },
     "execution_count": 33,
     "metadata": {},
     "output_type": "execute_result"
    },
    {
     "data": {
      "image/png": "[encoded data removed]",
      "text/plain": [
       "<Figure size 432x288 with 1 Axes>"
      ]
     },
     "metadata": {
      "needs_background": "light"
     },
     "output_type": "display_data"
    }
   ],
   "source": [
    "# Plot temperature ECDF\n",
    "x_temp, y_temp = ecdf(df.temperature)\n",
    "plt.plot(x_temp, y_temp, marker='.', linestyle='none')\n",
    "\n",
    "\n",
    "# Plot normal temperature ECDF\n",
    "mu_temp = np.mean(df.temperature)\n",
    "sigma_temp = np.std(df.temperature)\n",
    "norm_temp = np.random.normal(mu_temp, sigma_temp, size_sim)\n",
    "x_norm_temp, y_norm_temp = ecdf(norm_temp)\n",
    "plt.plot(x_norm_temp, y_norm_temp, color='red', alpha=0.5)"
   ]
  },
  {
   "cell_type": "code",
   "execution_count": 8,
   "metadata": {},
   "outputs": [
    {
     "data": {
      "image/png": "[encoded data removed]",
      "text/plain": [
       "<Figure size 432x288 with 1 Axes>"
      ]
     },
     "execution_count": 8,
     "metadata": {},
     "output_type": "execute_result"
    },
    {
     "data": {
      "image/png": "[encoded data removed]",
      "text/plain": [
       "<Figure size 432x288 with 1 Axes>"
      ]
     },
     "metadata": {
      "needs_background": "light"
     },
     "output_type": "display_data"
    }
   ],
   "source": [
    "# Quantile-Quantile PlotQQ plot\n",
    "qqplot(df.temperature, line='s')"
   ]
  },
  {
   "cell_type": "code",
   "execution_count": 18,
   "metadata": {},
   "outputs": [
    {
     "name": "stdout",
     "output_type": "stream",
     "text": [
      "The distribution of Body temperature looks normal\n"
     ]
    }
   ],
   "source": [
    "# Shapiro-Wilk Test\n",
    "_, p = stats.shapiro(df.temperature)\n",
    "if p > 0.05:\n",
    "    print('The distribution of Body temperature looks normal')\n",
    "else:\n",
    "    print('The distribution of body temperature does not look normal')"
   ]
  },
  {
   "cell_type": "markdown",
   "metadata": {},
   "source": [
    "From the plots and test, we can conclude that the distribution of body temperature **is normal**."
   ]
  },
  {
   "cell_type": "markdown",
   "metadata": {},
   "source": [
    "# 2. Is the sample size large? Are the observations independent?"
   ]
  },
  {
   "cell_type": "code",
   "execution_count": 10,
   "metadata": {},
   "outputs": [
    {
     "data": {
      "text/plain": [
       "temperature    True\n",
       "gender         True\n",
       "heart_rate     True\n",
       "dtype: bool"
      ]
     },
     "execution_count": 10,
     "metadata": {},
     "output_type": "execute_result"
    }
   ],
   "source": [
    "df.count() > 30"
   ]
  },
  {
   "cell_type": "markdown",
   "metadata": {},
   "source": [
    "The sample size is larger than thirty which can ba considered as **large enough**.\n",
    "\n",
    "A person's temperature and heart rate are hard to affect another's unless they're physical very close to each other during observation. So the observations can be considered as **independent**."
   ]
  },
  {
   "cell_type": "markdown",
   "metadata": {},
   "source": [
    "# 3. Is the true population mean really 98.6 degrees F?"
   ]
  },
  {
   "cell_type": "markdown",
   "metadata": {},
   "source": [
    "## Bootstrap Hypothesis Test"
   ]
  },
  {
   "cell_type": "markdown",
   "metadata": {},
   "source": [
    "**H0: The true population mean is 98.6F.**"
   ]
  },
  {
   "cell_type": "code",
   "execution_count": 12,
   "metadata": {},
   "outputs": [
    {
     "name": "stdout",
     "output_type": "stream",
     "text": [
      "The true population mean is not 98.6F (Reject H0)\n"
     ]
    }
   ],
   "source": [
    "true_temp_mean = 98.6\n",
    "bs_mean = draw_bs_reps(df.temperature, func=np.mean, size=10000)\n",
    "p = np.sum(bs_mean >= true_temp_mean) / len(bs_mean)\n",
    "if p > alpha:\n",
    "    print(f'The true population mean is {true_temp_mean}F (Fail to reject H0)')\n",
    "else:\n",
    "    print(f'The true population mean is not {true_temp_mean}F (Reject H0)')"
   ]
  },
  {
   "cell_type": "markdown",
   "metadata": {},
   "source": [
    "The true population mean is **not** 98.6 degrees F."
   ]
  },
  {
   "cell_type": "markdown",
   "metadata": {},
   "source": [
    "## Frequentist Statistical Test"
   ]
  },
  {
   "cell_type": "markdown",
   "metadata": {},
   "source": [
    "As we are testing if the population mean of the body temperature is equal to a constant (in this case 98.6) instead of if the body temperature of men and women are identical, we should use **one-sample test**."
   ]
  },
  {
   "cell_type": "markdown",
   "metadata": {},
   "source": [
    "As the standard deviation of population is unknown, **t statistic test** is often more accurate in this case."
   ]
  },
  {
   "cell_type": "markdown",
   "metadata": {},
   "source": [
    "### T Test By Hand"
   ]
  },
  {
   "cell_type": "code",
   "execution_count": 34,
   "metadata": {},
   "outputs": [
    {
     "name": "stdout",
     "output_type": "stream",
     "text": [
      "t: -5.475925202078116, p: 2.1887464618508545e-07\n"
     ]
    }
   ],
   "source": [
    "n = len(df.temperature)\n",
    "t = (mu_temp - true_temp_mean) / sigma_temp * np.sqrt(n)\n",
    "p = (1 - stats.t.cdf(np.abs(t), df=n-1)) * 2\n",
    "print(f't: {t}, p: {p}')"
   ]
  },
  {
   "cell_type": "markdown",
   "metadata": {},
   "source": [
    "### T Test By SciPy"
   ]
  },
  {
   "cell_type": "code",
   "execution_count": 15,
   "metadata": {},
   "outputs": [
    {
     "name": "stdout",
     "output_type": "stream",
     "text": [
      "t: -5.4548232923645195, p: 2.4106320415561276e-07\n",
      "The true population mean is not 98.6F (Reject H0)\n"
     ]
    }
   ],
   "source": [
    "t, p = stats.ttest_1samp(df.temperature, true_temp_mean)\n",
    "print(f't: {t}, p: {p}')\n",
    "if p > alpha:\n",
    "    print(f'The true population mean is {true_temp_mean}F (Fail to reject H0)')\n",
    "else:\n",
    "    print(f'The true population mean is not {true_temp_mean}F (Reject H0)')    "
   ]
  },
  {
   "cell_type": "markdown",
   "metadata": {},
   "source": [
    "### Z Test"
   ]
  },
  {
   "cell_type": "code",
   "execution_count": 46,
   "metadata": {},
   "outputs": [
    {
     "name": "stdout",
     "output_type": "stream",
     "text": [
      "z: 1527.8768644603886, p: 0.0\n",
      "The true population mean is not 98.6F (Reject H0)\n"
     ]
    }
   ],
   "source": [
    "z, p = ztest(df.temperature)\n",
    "print(f'z: {z}, p: {p}')\n",
    "if p > alpha:\n",
    "    print(f'The true population mean is {true_temp_mean}F (Fail to reject H0)')\n",
    "else:\n",
    "    print(f'The true population mean is not {true_temp_mean}F (Reject H0)')"
   ]
  },
  {
   "cell_type": "markdown",
   "metadata": {},
   "source": [
    "# 4. Draw a small sample of size 10 from the data and repeat both frequentist tests."
   ]
  },
  {
   "cell_type": "code",
   "execution_count": 7,
   "metadata": {},
   "outputs": [],
   "source": [
    "df_temp_10 = df.temperature.sample(n=10, random_state=1)"
   ]
  },
  {
   "cell_type": "markdown",
   "metadata": {},
   "source": [
    "### T Test"
   ]
  },
  {
   "cell_type": "code",
   "execution_count": 16,
   "metadata": {},
   "outputs": [
    {
     "name": "stdout",
     "output_type": "stream",
     "text": [
      "t: -1.9658186252250536, p: 0.08088423631974037\n",
      "The true population mean is 98.6F (Fail to reject H0)\n"
     ]
    }
   ],
   "source": [
    "t, p = stats.ttest_1samp(df_temp_10, true_temp_mean)\n",
    "print(f't: {t}, p: {p}')\n",
    "if p > alpha:\n",
    "    print(f'The true population mean is {true_temp_mean}F (Fail to reject H0)')\n",
    "else:\n",
    "    print(f'The true population mean is not {true_temp_mean}F (Reject H0)')    "
   ]
  },
  {
   "cell_type": "markdown",
   "metadata": {},
   "source": [
    "### Z Test"
   ]
  },
  {
   "cell_type": "code",
   "execution_count": 14,
   "metadata": {},
   "outputs": [
    {
     "name": "stdout",
     "output_type": "stream",
     "text": [
      "z: 350.4518476423954, p: 0.0\n",
      "The true population mean is not 98.6F (Reject H0)\n"
     ]
    }
   ],
   "source": [
    "z, p = ztest(df_temp_10)\n",
    "print(f'z: {z}, p: {p}')\n",
    "if p > alpha:\n",
    "    print(f'The true population mean is {true_temp_mean}F (Fail to reject H0)')\n",
    "else:\n",
    "    print(f'The true population mean is not {true_temp_mean}F (Reject H0)')"
   ]
  },
  {
   "cell_type": "code",
   "execution_count": 59,
   "metadata": {},
   "outputs": [
    {
     "data": {
      "text/plain": [
       "(array([0.35714286, 0.35714286, 0.71428571, 0.        , 0.35714286,\n",
       "        0.35714286, 0.35714286, 0.71428571, 0.        , 0.35714286]),\n",
       " array([96.7 , 96.98, 97.26, 97.54, 97.82, 98.1 , 98.38, 98.66, 98.94,\n",
       "        99.22, 99.5 ]),\n",
       " <a list of 10 Patch objects>)"
      ]
     },
     "execution_count": 59,
     "metadata": {},
     "output_type": "execute_result"
    },
    {
     "data": {
      "image/png": "[encoded data removed]",
      "text/plain": [
       "<Figure size 432x288 with 1 Axes>"
      ]
     },
     "metadata": {
      "needs_background": "light"
     },
     "output_type": "display_data"
    }
   ],
   "source": [
    "# Plot distribution of the sample\n",
    "plt.hist(df_temp_10, density=True)"
   ]
  },
  {
   "cell_type": "markdown",
   "metadata": {},
   "source": [
    "T test for small sample shows a different result. It fails to reject H0.\n",
    "\n",
    "The reason is that the sample size is too small and not normally distributed."
   ]
  },
  {
   "cell_type": "markdown",
   "metadata": {},
   "source": [
    "# 5. At what temperature should we consider someone's temperature to be \"abnormal\"?"
   ]
  },
  {
   "cell_type": "markdown",
   "metadata": {},
   "source": [
    "### Assume confidence level is 95%"
   ]
  },
  {
   "cell_type": "code",
   "execution_count": 98,
   "metadata": {},
   "outputs": [],
   "source": [
    "conf_lev = 0.95\n",
    "conf_decimals = 3\n",
    "temp_decimals = 1"
   ]
  },
  {
   "cell_type": "markdown",
   "metadata": {},
   "source": [
    "## Bootstrap Test"
   ]
  },
  {
   "cell_type": "markdown",
   "metadata": {},
   "source": [
    "As we're estimating the abnormal temperature, I choose to use __confidence interval__ as test statistics."
   ]
  },
  {
   "cell_type": "code",
   "execution_count": 76,
   "metadata": {},
   "outputs": [],
   "source": [
    "conf_per_low = round(0 + (1-conf_lev)/2, decimals)\n",
    "conf_per_high = round(1 - (1-conf_lev)/2, decimals)"
   ]
  },
  {
   "cell_type": "code",
   "execution_count": 88,
   "metadata": {},
   "outputs": [
    {
     "name": "stdout",
     "output_type": "stream",
     "text": [
      "Percentiles are (0.025, 0.975)\n"
     ]
    }
   ],
   "source": [
    "print(f'Percentiles are {conf_per_low, conf_per_high}')"
   ]
  },
  {
   "cell_type": "code",
   "execution_count": 114,
   "metadata": {},
   "outputs": [
    {
     "name": "stdout",
     "output_type": "stream",
     "text": [
      "Confidence interval for sample body temperature is [96.3, 96.5]\n"
     ]
    }
   ],
   "source": [
    "df_temp_conf_int = np.percentile(df.temperature, [conf_per_low, conf_per_high])\n",
    "# Round values\n",
    "df_temp_conf_int = [round(temp, temp_decimals) for temp in df_temp_conf_int]\n",
    "print(f'Confidence interval for sample body temperature is {df_temp_conf_int}')"
   ]
  },
  {
   "cell_type": "code",
   "execution_count": 115,
   "metadata": {},
   "outputs": [],
   "source": [
    "# Helper method to draw bootstrap replicates of confidence interval\n",
    "def draw_bs_rep_per(data, conf_pers, size=1):\n",
    "    bs_con_int_low = np.empty(size)\n",
    "    bs_con_int_high = np.empty(size)\n",
    "    for i in range(size):\n",
    "        bs_sample = np.random.choice(data, len(data))\n",
    "        bs_con_int = np.percentile(bs_sample, conf_pers)\n",
    "        bs_con_int_low[i], bs_con_int_high[i] = [round(temp, temp_decimals) for temp in bs_con_int]\n",
    "    return bs_con_int_low, bs_con_int_high"
   ]
  },
  {
   "cell_type": "code",
   "execution_count": 116,
   "metadata": {},
   "outputs": [],
   "source": [
    "bs_con_int_low, bs_con_int_high = draw_bs_rep_per(df.temperature, [conf_per_low, conf_per_high], size=10000)"
   ]
  },
  {
   "cell_type": "code",
   "execution_count": 113,
   "metadata": {
    "scrolled": true
   },
   "outputs": [
    {
     "data": {
      "image/png": "[encoded data removed]",
      "text/plain": [
       "<Figure size 1080x360 with 2 Axes>"
      ]
     },
     "metadata": {
      "needs_background": "light"
     },
     "output_type": "display_data"
    }
   ],
   "source": [
    "fig, axs = plt.subplots(1, 2, figsize=(15, 5))\n",
    "axs[0].hist(bs_con_int_low, bins=50, density=True)\n",
    "axs[0].set_xlabel('Low Threshold Distribution')\n",
    "axs[1].hist(bs_con_int_high, bins=50, density=False)\n",
    "axs[1].set_xlabel('High Threshold Distribution')\n",
    "plt.show()"
   ]
  },
  {
   "cell_type": "markdown",
   "metadata": {},
   "source": [
    "### As neither of bootstrap relicates looks like normally distributted. Bootstrap may not be approperate for this test. But let's try to use them to test the hypothesis."
   ]
  },
  {
   "cell_type": "code",
   "execution_count": 125,
   "metadata": {},
   "outputs": [
    {
     "name": "stdout",
     "output_type": "stream",
     "text": [
      "Confidence interval for sample body temperature is [96.3, 96.5]\n"
     ]
    }
   ],
   "source": [
    "print(f'Confidence interval for sample body temperature is {df_temp_conf_int}')"
   ]
  },
  {
   "cell_type": "markdown",
   "metadata": {},
   "source": [
    "### H0: Body temperture which is lower than 96.3F is abnormal."
   ]
  },
  {
   "cell_type": "code",
   "execution_count": 129,
   "metadata": {},
   "outputs": [
    {
     "name": "stdout",
     "output_type": "stream",
     "text": [
      "Body temperature which is lower than 96.3F is abnormal (Fail to reject H0)\n"
     ]
    }
   ],
   "source": [
    "p_low = np.sum(bs_con_int_low <= df_temp_conf_int[0]) / len(bs_con_int_low)\n",
    "if p_low > alpha:\n",
    "    print(f'Body temperature which is lower than 96.3F is abnormal (Fail to reject H0)')\n",
    "else:\n",
    "    print(f'Body temperature which is lower then 96.3F is normal (Rject H0)')"
   ]
  },
  {
   "cell_type": "markdown",
   "metadata": {},
   "source": [
    "### H0: Body temperture which is larger than 96.5F is abnormal."
   ]
  },
  {
   "cell_type": "code",
   "execution_count": 130,
   "metadata": {},
   "outputs": [
    {
     "name": "stdout",
     "output_type": "stream",
     "text": [
      "Body temperature which is larger than 96.5F is abnormal (Fail to reject H0)\n"
     ]
    }
   ],
   "source": [
    "p_high = np.sum(bs_con_int_high >= df_temp_conf_int[1]) / len(bs_con_int_high)\n",
    "if p_high > alpha:\n",
    "    print(f'Body temperature which is larger than 96.5F is abnormal (Fail to reject H0)')\n",
    "else:\n",
    "    print(f'Body temperature which is larger then 96.5F is normal (Rject H0)')"
   ]
  },
  {
   "cell_type": "markdown",
   "metadata": {},
   "source": [
    "## Frequentist Test"
   ]
  },
  {
   "cell_type": "markdown",
   "metadata": {},
   "source": [
    "### Z Test"
   ]
  },
  {
   "cell_type": "code",
   "execution_count": 120,
   "metadata": {},
   "outputs": [
    {
     "name": "stdout",
     "output_type": "stream",
     "text": [
      "z score is 1.959963984540054\n"
     ]
    }
   ],
   "source": [
    "z = stats.norm.ppf(q=conf_per_high)\n",
    "print(f'z score is {z}')"
   ]
  },
  {
   "cell_type": "code",
   "execution_count": 121,
   "metadata": {},
   "outputs": [
    {
     "name": "stdout",
     "output_type": "stream",
     "text": [
      "Margin of error is 0.12554865777413815\n"
     ]
    }
   ],
   "source": [
    "margin_of_error = z * (sigma_temp / np.sqrt(len(df.temperature)))\n",
    "print(f'Margin of error is {margin_of_error}')"
   ]
  },
  {
   "cell_type": "code",
   "execution_count": 124,
   "metadata": {},
   "outputs": [
    {
     "name": "stdout",
     "output_type": "stream",
     "text": [
      "Confidence interval for lower threshold is (96.17445134222586, 96.42554865777413)\n",
      "Confidence interval for higher threshold is (96.37445134222587, 96.62554865777413)\n"
     ]
    }
   ],
   "source": [
    "conf_int_low = (df_temp_conf_int[0] - margin_of_error, df_temp_conf_int[0] + margin_of_error)\n",
    "conf_int_high = (df_temp_conf_int[1] - margin_of_error, df_temp_conf_int[1] + margin_of_error)\n",
    "print(f'Confidence interval for lower threshold is {conf_int_low}')\n",
    "print(f'Confidence interval for higher threshold is {conf_int_high}')"
   ]
  },
  {
   "cell_type": "markdown",
   "metadata": {},
   "source": [
    "# 6. Is there a significant difference between males and females in normal temperature?"
   ]
  },
  {
   "cell_type": "markdown",
   "metadata": {},
   "source": [
    "## Bootstrap Test"
   ]
  },
  {
   "cell_type": "markdown",
   "metadata": {},
   "source": [
    "### H0: Means of male and female temperature are the same."
   ]
  },
  {
   "cell_type": "code",
   "execution_count": 131,
   "metadata": {},
   "outputs": [],
   "source": [
    "# Helper function to concat and permute two data sets\n",
    "def perm_sample(data1, data2):\n",
    "    data = np.concatenate((data1, data2))\n",
    "    data = np.random.permutation(data)\n",
    "    perm_data_1 = data[:len(data1)]\n",
    "    perm_data_2 = data[len(data1):]\n",
    "    return perm_data_1, perm_data_2"
   ]
  },
  {
   "cell_type": "code",
   "execution_count": 133,
   "metadata": {},
   "outputs": [],
   "source": [
    "# Helper function to draw bootstrap replicates from permutated data\n",
    "def draw_perm_reps(data1, data2, func, size=1):\n",
    "    perm_reps = np.empty(size)\n",
    "    for i in range(size):\n",
    "        perm_data_1, perm_data_2 = perm_sample(data1, data2)\n",
    "        perm_reps[i] = func(perm_data_1, perm_data_2)\n",
    "    return perm_reps"
   ]
  },
  {
   "cell_type": "code",
   "execution_count": 140,
   "metadata": {},
   "outputs": [],
   "source": [
    "# Helper function to calculate the difference of means between two data sets\n",
    "def mean_diff(data1, data2):\n",
    "    return np.mean(data1) - np.mean(data2)"
   ]
  },
  {
   "cell_type": "code",
   "execution_count": 152,
   "metadata": {},
   "outputs": [
    {
     "name": "stdout",
     "output_type": "stream",
     "text": [
      "Difference of sample means is -0.289230769230727\n"
     ]
    }
   ],
   "source": [
    "male_temp = df[df.gender == 'M'].temperature\n",
    "female_temp = df[df.gender == 'F'].temperature\n",
    "sample_mean_diff = mean_diff(male_temp, female_temp)\n",
    "perm_reps = draw_perm_reps(male_temp, female_temp, mean_diff, size=10000)\n",
    "print(f'Difference of sample means is {sample_mean_diff}')"
   ]
  },
  {
   "cell_type": "code",
   "execution_count": 151,
   "metadata": {},
   "outputs": [
    {
     "data": {
      "image/png": "[encoded data removed]",
      "text/plain": [
       "<Figure size 432x288 with 1 Axes>"
      ]
     },
     "metadata": {
      "needs_background": "light"
     },
     "output_type": "display_data"
    }
   ],
   "source": [
    "plt.hist(perm_reps, bins=50, density=True)\n",
    "plt.show()"
   ]
  },
  {
   "cell_type": "code",
   "execution_count": 148,
   "metadata": {},
   "outputs": [
    {
     "name": "stdout",
     "output_type": "stream",
     "text": [
      "Body temperature which is larger then 96.5F is normal (Rject H0)\n"
     ]
    }
   ],
   "source": [
    "p_perm = np.sum(perm_reps <= sample_mean_diff) / len(perm_reps)\n",
    "if p_perm > alpha:\n",
    "    print(f'Body temperature which is larger than 96.5F is abnormal (Fail to reject H0)')\n",
    "else:\n",
    "    print(f'Body temperature which is larger then 96.5F is normal (Rject H0)')"
   ]
  },
  {
   "cell_type": "code",
   "execution_count": 149,
   "metadata": {},
   "outputs": [
    {
     "data": {
      "text/plain": [
       "0.0117"
      ]
     },
     "execution_count": 149,
     "metadata": {},
     "output_type": "execute_result"
    }
   ],
   "source": [
    "p_perm"
   ]
  },
  {
   "cell_type": "markdown",
   "metadata": {},
   "source": [
    "T test should be used for two reasons:\n",
    "1. Population standard deviation is unknow.\n",
    "2. Comparison between two sample means."
   ]
  },
  {
   "cell_type": "code",
   "execution_count": null,
   "metadata": {},
   "outputs": [],
   "source": []
  }
 ],
 "metadata": {
  "kernelspec": {
   "display_name": "Python 3",
   "language": "python",
   "name": "python3"
  },
  "language_info": {
   "codemirror_mode": {
    "name": "ipython",
    "version": 3
   },
   "file_extension": ".py",
   "mimetype": "text/x-python",
   "name": "python",
   "nbconvert_exporter": "python",
   "pygments_lexer": "ipython3",
   "version": "3.7.3"
  }
 },
 "nbformat": 4,
 "nbformat_minor": 1
}
